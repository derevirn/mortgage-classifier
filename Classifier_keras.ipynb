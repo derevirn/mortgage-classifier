{
 "cells": [
  {
   "cell_type": "code",
   "execution_count": 1,
   "metadata": {},
   "outputs": [
    {
     "name": "stderr",
     "output_type": "stream",
     "text": [
      "Using TensorFlow backend.\n"
     ]
    }
   ],
   "source": [
    "import pandas as pd\n",
    "import numpy as np\n",
    "import math\n",
    "import seaborn as sns\n",
    "import matplotlib.pyplot as plt\n",
    "import category_encoders as ce\n",
    "from sklearn import metrics\n",
    "from sklearn.metrics import confusion_matrix\n",
    "from sklearn.model_selection import train_test_split, RandomizedSearchCV, KFold, cross_val_score\n",
    "from sklearn.preprocessing import StandardScaler, QuantileTransformer\n",
    "from keras.models import Sequential\n",
    "from keras.layers import Dense, Dropout\n",
    "from keras.wrappers.scikit_learn import KerasClassifier\n",
    "pd.options.display.max_columns = None\n",
    "\n",
    "X_train = pd.read_csv(\"train_values.csv\")\n",
    "y_train = pd.read_csv(\"train_labels.csv\")"
   ]
  },
  {
   "cell_type": "code",
   "execution_count": 2,
   "metadata": {},
   "outputs": [],
   "source": [
    "replace_dict = {\n",
    "'msa_md': -1,\n",
    "'state_code': -1,\n",
    "'county_code': -1,\n",
    "'occupancy': 3,\n",
    "'preapproval': 3,\n",
    "'applicant_ethnicity': [3, 4, 5],\n",
    "\"applicant_race\": [6, 7, 8],\n",
    "\"applicant_sex\": [3, 4, 5]\n",
    "}\n",
    "    \n",
    "to_log = [\"loan_amount\", \"applicant_income\", \"number_of_owner-occupied_units\",\n",
    "          \"number_of_1_to_4_family_units\", \"minority_population\"]\n",
    "\n",
    "to_drop = [\"row_id\", \"number_of_1_to_4_family_units\",\n",
    "           \"occupancy\", \"preapproval\", \"county_code\"]\n",
    "\n",
    "num_cols = [\"loan_amount\", \"applicant_income\", \"population\", \"minority_population_pct\",\n",
    "            \"ffiecmedian_family_income\", \"tract_to_msa_md_income_pct\",\n",
    "            \"number_of_owner-occupied_units\"]\n",
    "\n",
    "cat_cols_few = [\"loan_type\", \"property_type\", \"loan_purpose\",\n",
    "            \"applicant_ethnicity\", \"applicant_race\",\n",
    "            \"applicant_sex\", \"co_applicant\"]\n",
    "\n",
    "def prepare_data(df):\n",
    "    \n",
    "    df[\"co_applicant\"] = df[\"co_applicant\"].astype(\"int8\")\n",
    "    \n",
    "    df.replace(replace_dict, np.nan, inplace = True)\n",
    "    \n",
    "    for col in num_cols:\n",
    "        df[col].fillna(df[col].median(), inplace=True)\n",
    "        \n",
    "    for col in cat_cols_few:\n",
    "        df[col].fillna(df[col].mode()[0], inplace=True)\n",
    "        \n",
    "    df[\"minority_population\"] = (df[\"minority_population_pct\"] / 100) * (df[\"population\"])\n",
    "    df[\"tract_family_income\"] = (df[\"tract_to_msa_md_income_pct\"] / 100) * (df[\"ffiecmedian_family_income\"])\n",
    "\n",
    "    df[to_log] = df[to_log].applymap(math.log)\n",
    "    \n",
    "    to_drop.extend([\"minority_population_pct\", \"population\",\n",
    "                    \"ffiecmedian_family_income\", \"tract_to_msa_md_income_pct\"])\n",
    "    df.drop(to_drop, axis=1, inplace=True)\n",
    "    \n",
    "    df = pd.get_dummies(df, columns = cat_cols_few)\n",
    "    \n",
    "    return df"
   ]
  },
  {
   "cell_type": "code",
   "execution_count": 3,
   "metadata": {},
   "outputs": [
    {
     "name": "stdout",
     "output_type": "stream",
     "text": [
      "<class 'pandas.core.frame.DataFrame'>\n",
      "RangeIndex: 500000 entries, 0 to 499999\n",
      "Data columns (total 29 columns):\n",
      " #   Column                          Non-Null Count   Dtype  \n",
      "---  ------                          --------------   -----  \n",
      " 0   loan_amount                     500000 non-null  float64\n",
      " 1   msa_md                          500000 non-null  float64\n",
      " 2   state_code                      500000 non-null  float64\n",
      " 3   applicant_income                500000 non-null  float64\n",
      " 4   number_of_owner-occupied_units  500000 non-null  float64\n",
      " 5   lender                          500000 non-null  float64\n",
      " 6   minority_population             500000 non-null  float64\n",
      " 7   tract_family_income             500000 non-null  float64\n",
      " 8   loan_type_1                     500000 non-null  uint8  \n",
      " 9   loan_type_2                     500000 non-null  uint8  \n",
      " 10  loan_type_3                     500000 non-null  uint8  \n",
      " 11  loan_type_4                     500000 non-null  uint8  \n",
      " 12  property_type_1                 500000 non-null  uint8  \n",
      " 13  property_type_2                 500000 non-null  uint8  \n",
      " 14  property_type_3                 500000 non-null  uint8  \n",
      " 15  loan_purpose_1                  500000 non-null  uint8  \n",
      " 16  loan_purpose_2                  500000 non-null  uint8  \n",
      " 17  loan_purpose_3                  500000 non-null  uint8  \n",
      " 18  applicant_ethnicity_1.0         500000 non-null  uint8  \n",
      " 19  applicant_ethnicity_2.0         500000 non-null  uint8  \n",
      " 20  applicant_race_1.0              500000 non-null  uint8  \n",
      " 21  applicant_race_2.0              500000 non-null  uint8  \n",
      " 22  applicant_race_3.0              500000 non-null  uint8  \n",
      " 23  applicant_race_4.0              500000 non-null  uint8  \n",
      " 24  applicant_race_5.0              500000 non-null  uint8  \n",
      " 25  applicant_sex_1.0               500000 non-null  uint8  \n",
      " 26  applicant_sex_2.0               500000 non-null  uint8  \n",
      " 27  co_applicant_0                  500000 non-null  uint8  \n",
      " 28  co_applicant_1                  500000 non-null  uint8  \n",
      "dtypes: float64(8), uint8(21)\n",
      "memory usage: 40.5 MB\n"
     ]
    }
   ],
   "source": [
    "X_train = prepare_data(X_train)\n",
    "\n",
    "ce_target = ce.TargetEncoder(cols = [\"lender\", \"msa_md\", \"state_code\"], smoothing = 5, return_df = True)\n",
    "X_train = ce_target.fit_transform(X_train, y_train[\"accepted\"])\n",
    "\n",
    "X_train.info() "
   ]
  },
  {
   "cell_type": "code",
   "execution_count": 4,
   "metadata": {},
   "outputs": [],
   "source": [
    "X_train, X_test, y_train, y_test = train_test_split(X_train.values, y_train[\"accepted\"].values, test_size=0.3, random_state=0)\n",
    "\n",
    "scaler = StandardScaler()\n",
    "X_train = scaler.fit_transform(X_train)\n",
    "X_test = scaler.transform(X_test)"
   ]
  },
  {
   "cell_type": "code",
   "execution_count": 10,
   "metadata": {},
   "outputs": [
    {
     "name": "stdout",
     "output_type": "stream",
     "text": [
      "Epoch 1/20\n",
      "350000/350000 [==============================] - 4s 10us/step - loss: 0.5760 - accuracy: 0.6985\n",
      "Epoch 2/20\n",
      "350000/350000 [==============================] - 4s 10us/step - loss: 0.5583 - accuracy: 0.7122\n",
      "Epoch 3/20\n",
      "350000/350000 [==============================] - 4s 10us/step - loss: 0.5552 - accuracy: 0.7139\n",
      "Epoch 4/20\n",
      "350000/350000 [==============================] - 4s 10us/step - loss: 0.5538 - accuracy: 0.7151\n",
      "Epoch 5/20\n",
      "350000/350000 [==============================] - 3s 10us/step - loss: 0.5533 - accuracy: 0.7152\n",
      "Epoch 6/20\n",
      "350000/350000 [==============================] - 4s 10us/step - loss: 0.5527 - accuracy: 0.7158\n",
      "Epoch 7/20\n",
      "350000/350000 [==============================] - 3s 10us/step - loss: 0.5523 - accuracy: 0.7159\n",
      "Epoch 8/20\n",
      "350000/350000 [==============================] - 3s 10us/step - loss: 0.5524 - accuracy: 0.7161\n",
      "Epoch 9/20\n",
      "350000/350000 [==============================] - 3s 10us/step - loss: 0.5521 - accuracy: 0.7164\n",
      "Epoch 10/20\n",
      "350000/350000 [==============================] - 4s 10us/step - loss: 0.5515 - accuracy: 0.7167\n",
      "Epoch 11/20\n",
      "350000/350000 [==============================] - 3s 10us/step - loss: 0.5519 - accuracy: 0.7161\n",
      "Epoch 12/20\n",
      "350000/350000 [==============================] - 4s 10us/step - loss: 0.5520 - accuracy: 0.7164\n",
      "Epoch 13/20\n",
      "350000/350000 [==============================] - 3s 10us/step - loss: 0.5515 - accuracy: 0.7165\n",
      "Epoch 14/20\n",
      "350000/350000 [==============================] - 4s 10us/step - loss: 0.5516 - accuracy: 0.7167\n",
      "Epoch 15/20\n",
      "350000/350000 [==============================] - 4s 10us/step - loss: 0.5517 - accuracy: 0.7163\n",
      "Epoch 16/20\n",
      "350000/350000 [==============================] - 4s 10us/step - loss: 0.5517 - accuracy: 0.7170\n",
      "Epoch 17/20\n",
      "350000/350000 [==============================] - 3s 10us/step - loss: 0.5515 - accuracy: 0.7163\n",
      "Epoch 18/20\n",
      "350000/350000 [==============================] - 3s 10us/step - loss: 0.5518 - accuracy: 0.7166\n",
      "Epoch 19/20\n",
      "350000/350000 [==============================] - 3s 10us/step - loss: 0.5517 - accuracy: 0.7169\n",
      "Epoch 20/20\n",
      "350000/350000 [==============================] - 3s 10us/step - loss: 0.5515 - accuracy: 0.7161\n",
      "150000/150000 [==============================] - 0s 2us/step\n"
     ]
    }
   ],
   "source": [
    "def create_model():\n",
    "    model = Sequential()\n",
    "    model.add(Dense(64, input_dim=29, activation='relu'))\n",
    "    model.add(Dropout(0.5))\n",
    "    model.add(Dense(64, activation='relu'))\n",
    "    model.add(Dropout(0.5))\n",
    "    model.add(Dense(1, activation='sigmoid'))\n",
    "    \n",
    "    model.compile(loss='binary_crossentropy',\n",
    "                  optimizer='rmsprop',\n",
    "                  metrics=['accuracy'])\n",
    "    return model\n",
    "\n",
    "model = KerasClassifier(build_fn=create_model, epochs=20, batch_size=200, verbose=1)\n",
    "\n",
    "model.fit(X_train, y_train)\n",
    "prediction = model.predict(X_test)"
   ]
  },
  {
   "cell_type": "code",
   "execution_count": 11,
   "metadata": {},
   "outputs": [
    {
     "name": "stdout",
     "output_type": "stream",
     "text": [
      "The accuracy is: 0.7168666666666667\n",
      "\n",
      "\n",
      "Classification Report:\n",
      "              precision    recall  f1-score   support\n",
      "\n",
      "           0       0.74      0.67      0.70     74876\n",
      "           1       0.70      0.76      0.73     75124\n",
      "\n",
      "    accuracy                           0.72    150000\n",
      "   macro avg       0.72      0.72      0.72    150000\n",
      "weighted avg       0.72      0.72      0.72    150000\n",
      "\n"
     ]
    },
    {
     "data": {
      "image/png": "[encoded data removed]",
      "text/plain": [
       "<Figure size 432x288 with 2 Axes>"
      ]
     },
     "metadata": {
      "needs_background": "light"
     },
     "output_type": "display_data"
    }
   ],
   "source": [
    "print('The accuracy is:', metrics.accuracy_score(y_test, prediction))\n",
    "print(\"\\n\")\n",
    "print(\"Classification Report:\")\n",
    "print(metrics.classification_report(y_test, prediction))\n",
    "\n",
    "sns.heatmap(confusion_matrix(y_test, prediction), annot=True)\n",
    "plt.title(\"Confusion Matrix\")\n",
    "plt.show()"
   ]
  }
 ],
 "metadata": {
  "kernelspec": {
   "display_name": "Python 3",
   "language": "python",
   "name": "python3"
  },
  "language_info": {
   "codemirror_mode": {
    "name": "ipython",
    "version": 3
   },
   "file_extension": ".py",
   "mimetype": "text/x-python",
   "name": "python",
   "nbconvert_exporter": "python",
   "pygments_lexer": "ipython3",
   "version": "3.7.7"
  }
 },
 "nbformat": 4,
 "nbformat_minor": 4
}
